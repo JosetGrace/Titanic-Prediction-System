{
 "cells": [
  {
   "cell_type": "markdown",
   "id": "d9248e0c-09b6-4d2d-845f-3f0233902302",
   "metadata": {},
   "source": [
    "### TITANIC PREDICTION SYSTEM\n",
    "\n",
    "#### Josephine Kayode (2023)\n",
    "\n",
    "<img src = \"image/img.jpg\" />"
   ]
  },
  {
   "cell_type": "markdown",
   "id": "ac4b9f92-0bf6-4ba8-b9ec-e44458a6a4d6",
   "metadata": {},
   "source": [
    "## 1.0 INTRODUCTION"
   ]
  },
  {
   "cell_type": "markdown",
   "id": "f4c60d22-219e-4add-933d-9dd8342957c8",
   "metadata": {},
   "source": [
    "##### In this project, the major language is python with its machine learning libraries: sklearn, pandas, numpy and matplotlib."
   ]
  },
  {
   "cell_type": "markdown",
   "id": "4801f8a2-b67c-4da9-8e0b-b2f9fd08d545",
   "metadata": {},
   "source": [
    "### 1.1 IMPORT PACKAGES"
   ]
  },
  {
   "cell_type": "code",
   "execution_count": 2,
   "id": "16868c5e-2623-4cf8-be70-6f5f9a44104e",
   "metadata": {},
   "outputs": [],
   "source": [
    "# data loading and manipulation libraries\n",
    "import pandas as pd\n",
    "import numpy as np\n",
    "import matplotlib.pyplot as plt\n",
    "\n",
    "#data Preprocessing\n",
    "from sklearn.preprocessing import OneHotEncoder\n",
    "\n",
    "# data visualisation\n",
    "import seaborn as sns\n",
    "import matplotlib.pyplot as plt\n",
    "\n",
    "\n",
    "# data modelling\n",
    "from sklearn.model_selection import train_test_split\n",
    "from sklearn.linear_model import LinearRegression\n",
    "from sklearn.linear_model import LogisticRegression\n",
    "from sklearn.tree import DecisionTreeClassifier\n",
    "from sklearn.tree import DecisionTreeRegressor\n",
    "from sklearn.tree import DecisionTreeRegressor\n",
    "\n",
    "\n",
    "# data evaluation \n",
    "from sklearn.neighbors import KNeighborsClassifier\n",
    "from sklearn.metrics import classification_report\n",
    "\n",
    "\n",
    "import warnings\n",
    "warnings.filterwarnings(\"ignore\")"
   ]
  },
  {
   "cell_type": "markdown",
   "id": "e6bcfd6c-a580-4cf1-8af9-ead0ed8890d7",
   "metadata": {},
   "source": [
    "### 1.1 IMPORT DATASETS"
   ]
  },
  {
   "cell_type": "markdown",
   "id": "6ba7bd91-980d-41bf-9545-100379e51870",
   "metadata": {},
   "source": [
    "##### The titanic dataset was gotten from kaggle . The dataset is download and placed inside the dataset directory of this project."
   ]
  },
  {
   "cell_type": "code",
   "execution_count": 3,
   "id": "83eb3b30",
   "metadata": {},
   "outputs": [],
   "source": [
    "titanic = pd.read_csv('dataset/train.csv')"
   ]
  },
  {
   "cell_type": "markdown",
   "id": "61ad95c4-b4b1-404a-a6b9-b8e327b77026",
   "metadata": {},
   "source": [
    "## 2.0 EXPLORATORY DATA ANALYSIS"
   ]
  },
  {
   "cell_type": "markdown",
   "id": "6bb95bd6-8473-4624-a2f0-c267bd4818a4",
   "metadata": {},
   "source": [
    " In this phase of the project, the dataset was analyzed and investigated to summarize their main characteristics. It helps determine how best to manipulate the dataset to achieve optimal model performance by leveraging the dataset patterns, spotting and handling anomalies, testing hypotheses, or checking assumptions."
   ]
  },
  {
   "cell_type": "markdown",
   "id": "34800373-e18e-48db-9c43-f2ffeac9297f",
   "metadata": {},
   "source": [
    "### 2.1 BRIEF OVERVIEW"
   ]
  },
  {
   "cell_type": "code",
   "execution_count": 4,
   "id": "c6966082",
   "metadata": {},
   "outputs": [
    {
     "data": {
      "text/html": [
       "<div>\n",
       "<style scoped>\n",
       "    .dataframe tbody tr th:only-of-type {\n",
       "        vertical-align: middle;\n",
       "    }\n",
       "\n",
       "    .dataframe tbody tr th {\n",
       "        vertical-align: top;\n",
       "    }\n",
       "\n",
       "    .dataframe thead th {\n",
       "        text-align: right;\n",
       "    }\n",
       "</style>\n",
       "<table border=\"1\" class=\"dataframe\">\n",
       "  <thead>\n",
       "    <tr style=\"text-align: right;\">\n",
       "      <th></th>\n",
       "      <th>PassengerId</th>\n",
       "      <th>Survived</th>\n",
       "      <th>Pclass</th>\n",
       "      <th>Name</th>\n",
       "      <th>Sex</th>\n",
       "      <th>Age</th>\n",
       "      <th>SibSp</th>\n",
       "      <th>Parch</th>\n",
       "      <th>Ticket</th>\n",
       "      <th>Fare</th>\n",
       "      <th>Cabin</th>\n",
       "      <th>Embarked</th>\n",
       "    </tr>\n",
       "  </thead>\n",
       "  <tbody>\n",
       "    <tr>\n",
       "      <th>0</th>\n",
       "      <td>1</td>\n",
       "      <td>0</td>\n",
       "      <td>3</td>\n",
       "      <td>Braund, Mr. Owen Harris</td>\n",
       "      <td>male</td>\n",
       "      <td>22.0</td>\n",
       "      <td>1</td>\n",
       "      <td>0</td>\n",
       "      <td>A/5 21171</td>\n",
       "      <td>7.2500</td>\n",
       "      <td>NaN</td>\n",
       "      <td>S</td>\n",
       "    </tr>\n",
       "    <tr>\n",
       "      <th>1</th>\n",
       "      <td>2</td>\n",
       "      <td>1</td>\n",
       "      <td>1</td>\n",
       "      <td>Cumings, Mrs. John Bradley (Florence Briggs Th...</td>\n",
       "      <td>female</td>\n",
       "      <td>38.0</td>\n",
       "      <td>1</td>\n",
       "      <td>0</td>\n",
       "      <td>PC 17599</td>\n",
       "      <td>71.2833</td>\n",
       "      <td>C85</td>\n",
       "      <td>C</td>\n",
       "    </tr>\n",
       "    <tr>\n",
       "      <th>2</th>\n",
       "      <td>3</td>\n",
       "      <td>1</td>\n",
       "      <td>3</td>\n",
       "      <td>Heikkinen, Miss. Laina</td>\n",
       "      <td>female</td>\n",
       "      <td>26.0</td>\n",
       "      <td>0</td>\n",
       "      <td>0</td>\n",
       "      <td>STON/O2. 3101282</td>\n",
       "      <td>7.9250</td>\n",
       "      <td>NaN</td>\n",
       "      <td>S</td>\n",
       "    </tr>\n",
       "    <tr>\n",
       "      <th>3</th>\n",
       "      <td>4</td>\n",
       "      <td>1</td>\n",
       "      <td>1</td>\n",
       "      <td>Futrelle, Mrs. Jacques Heath (Lily May Peel)</td>\n",
       "      <td>female</td>\n",
       "      <td>35.0</td>\n",
       "      <td>1</td>\n",
       "      <td>0</td>\n",
       "      <td>113803</td>\n",
       "      <td>53.1000</td>\n",
       "      <td>C123</td>\n",
       "      <td>S</td>\n",
       "    </tr>\n",
       "    <tr>\n",
       "      <th>4</th>\n",
       "      <td>5</td>\n",
       "      <td>0</td>\n",
       "      <td>3</td>\n",
       "      <td>Allen, Mr. William Henry</td>\n",
       "      <td>male</td>\n",
       "      <td>35.0</td>\n",
       "      <td>0</td>\n",
       "      <td>0</td>\n",
       "      <td>373450</td>\n",
       "      <td>8.0500</td>\n",
       "      <td>NaN</td>\n",
       "      <td>S</td>\n",
       "    </tr>\n",
       "    <tr>\n",
       "      <th>...</th>\n",
       "      <td>...</td>\n",
       "      <td>...</td>\n",
       "      <td>...</td>\n",
       "      <td>...</td>\n",
       "      <td>...</td>\n",
       "      <td>...</td>\n",
       "      <td>...</td>\n",
       "      <td>...</td>\n",
       "      <td>...</td>\n",
       "      <td>...</td>\n",
       "      <td>...</td>\n",
       "      <td>...</td>\n",
       "    </tr>\n",
       "    <tr>\n",
       "      <th>886</th>\n",
       "      <td>887</td>\n",
       "      <td>0</td>\n",
       "      <td>2</td>\n",
       "      <td>Montvila, Rev. Juozas</td>\n",
       "      <td>male</td>\n",
       "      <td>27.0</td>\n",
       "      <td>0</td>\n",
       "      <td>0</td>\n",
       "      <td>211536</td>\n",
       "      <td>13.0000</td>\n",
       "      <td>NaN</td>\n",
       "      <td>S</td>\n",
       "    </tr>\n",
       "    <tr>\n",
       "      <th>887</th>\n",
       "      <td>888</td>\n",
       "      <td>1</td>\n",
       "      <td>1</td>\n",
       "      <td>Graham, Miss. Margaret Edith</td>\n",
       "      <td>female</td>\n",
       "      <td>19.0</td>\n",
       "      <td>0</td>\n",
       "      <td>0</td>\n",
       "      <td>112053</td>\n",
       "      <td>30.0000</td>\n",
       "      <td>B42</td>\n",
       "      <td>S</td>\n",
       "    </tr>\n",
       "    <tr>\n",
       "      <th>888</th>\n",
       "      <td>889</td>\n",
       "      <td>0</td>\n",
       "      <td>3</td>\n",
       "      <td>Johnston, Miss. Catherine Helen \"Carrie\"</td>\n",
       "      <td>female</td>\n",
       "      <td>NaN</td>\n",
       "      <td>1</td>\n",
       "      <td>2</td>\n",
       "      <td>W./C. 6607</td>\n",
       "      <td>23.4500</td>\n",
       "      <td>NaN</td>\n",
       "      <td>S</td>\n",
       "    </tr>\n",
       "    <tr>\n",
       "      <th>889</th>\n",
       "      <td>890</td>\n",
       "      <td>1</td>\n",
       "      <td>1</td>\n",
       "      <td>Behr, Mr. Karl Howell</td>\n",
       "      <td>male</td>\n",
       "      <td>26.0</td>\n",
       "      <td>0</td>\n",
       "      <td>0</td>\n",
       "      <td>111369</td>\n",
       "      <td>30.0000</td>\n",
       "      <td>C148</td>\n",
       "      <td>C</td>\n",
       "    </tr>\n",
       "    <tr>\n",
       "      <th>890</th>\n",
       "      <td>891</td>\n",
       "      <td>0</td>\n",
       "      <td>3</td>\n",
       "      <td>Dooley, Mr. Patrick</td>\n",
       "      <td>male</td>\n",
       "      <td>32.0</td>\n",
       "      <td>0</td>\n",
       "      <td>0</td>\n",
       "      <td>370376</td>\n",
       "      <td>7.7500</td>\n",
       "      <td>NaN</td>\n",
       "      <td>Q</td>\n",
       "    </tr>\n",
       "  </tbody>\n",
       "</table>\n",
       "<p>891 rows × 12 columns</p>\n",
       "</div>"
      ],
      "text/plain": [
       "     PassengerId  Survived  Pclass  \\\n",
       "0              1         0       3   \n",
       "1              2         1       1   \n",
       "2              3         1       3   \n",
       "3              4         1       1   \n",
       "4              5         0       3   \n",
       "..           ...       ...     ...   \n",
       "886          887         0       2   \n",
       "887          888         1       1   \n",
       "888          889         0       3   \n",
       "889          890         1       1   \n",
       "890          891         0       3   \n",
       "\n",
       "                                                  Name     Sex   Age  SibSp  \\\n",
       "0                              Braund, Mr. Owen Harris    male  22.0      1   \n",
       "1    Cumings, Mrs. John Bradley (Florence Briggs Th...  female  38.0      1   \n",
       "2                               Heikkinen, Miss. Laina  female  26.0      0   \n",
       "3         Futrelle, Mrs. Jacques Heath (Lily May Peel)  female  35.0      1   \n",
       "4                             Allen, Mr. William Henry    male  35.0      0   \n",
       "..                                                 ...     ...   ...    ...   \n",
       "886                              Montvila, Rev. Juozas    male  27.0      0   \n",
       "887                       Graham, Miss. Margaret Edith  female  19.0      0   \n",
       "888           Johnston, Miss. Catherine Helen \"Carrie\"  female   NaN      1   \n",
       "889                              Behr, Mr. Karl Howell    male  26.0      0   \n",
       "890                                Dooley, Mr. Patrick    male  32.0      0   \n",
       "\n",
       "     Parch            Ticket     Fare Cabin Embarked  \n",
       "0        0         A/5 21171   7.2500   NaN        S  \n",
       "1        0          PC 17599  71.2833   C85        C  \n",
       "2        0  STON/O2. 3101282   7.9250   NaN        S  \n",
       "3        0            113803  53.1000  C123        S  \n",
       "4        0            373450   8.0500   NaN        S  \n",
       "..     ...               ...      ...   ...      ...  \n",
       "886      0            211536  13.0000   NaN        S  \n",
       "887      0            112053  30.0000   B42        S  \n",
       "888      2        W./C. 6607  23.4500   NaN        S  \n",
       "889      0            111369  30.0000  C148        C  \n",
       "890      0            370376   7.7500   NaN        Q  \n",
       "\n",
       "[891 rows x 12 columns]"
      ]
     },
     "execution_count": 4,
     "metadata": {},
     "output_type": "execute_result"
    }
   ],
   "source": [
    "titanic"
   ]
  },
  {
   "cell_type": "code",
   "execution_count": 5,
   "id": "99debfd6",
   "metadata": {},
   "outputs": [
    {
     "name": "stdout",
     "output_type": "stream",
     "text": [
      "<class 'pandas.core.frame.DataFrame'>\n",
      "RangeIndex: 891 entries, 0 to 890\n",
      "Data columns (total 12 columns):\n",
      " #   Column       Non-Null Count  Dtype  \n",
      "---  ------       --------------  -----  \n",
      " 0   PassengerId  891 non-null    int64  \n",
      " 1   Survived     891 non-null    int64  \n",
      " 2   Pclass       891 non-null    int64  \n",
      " 3   Name         891 non-null    object \n",
      " 4   Sex          891 non-null    object \n",
      " 5   Age          714 non-null    float64\n",
      " 6   SibSp        891 non-null    int64  \n",
      " 7   Parch        891 non-null    int64  \n",
      " 8   Ticket       891 non-null    object \n",
      " 9   Fare         891 non-null    float64\n",
      " 10  Cabin        204 non-null    object \n",
      " 11  Embarked     889 non-null    object \n",
      "dtypes: float64(2), int64(5), object(5)\n",
      "memory usage: 83.7+ KB\n"
     ]
    }
   ],
   "source": [
    "titanic.info()"
   ]
  },
  {
   "cell_type": "markdown",
   "id": "f7b92cd1-ecd4-4713-b0a1-9283270f7ffa",
   "metadata": {},
   "source": [
    "The dataset has 12 columns with 891 entries. Some of the independent variables are Objects(Name, Sex, Ticket, Cabin, Embarked) while some are Numeric(PassengerId,  Pclass, Age, SibSp,  Parch, Fare). The Target variable is \"Survived\" which is numerical.\n",
    "\n",
    "The dataset contains no unnamed variable."
   ]
  },
  {
   "cell_type": "code",
   "execution_count": 6,
   "id": "3a56428c",
   "metadata": {},
   "outputs": [],
   "source": [
    "titanic[\"Age\"] = titanic[\"Age\"].fillna(titanic[\"Age\"].mode()[0])\n",
    "titanic[\"Cabin\"] = titanic[\"Cabin\"].fillna(titanic[\"Cabin\"].mode()[0])\n",
    "titanic[\"Embarked\"] = titanic[\"Embarked\"].fillna(titanic[\"Embarked\"].mode()[0])\n"
   ]
  },
  {
   "cell_type": "code",
   "execution_count": 7,
   "id": "5eec78fb",
   "metadata": {},
   "outputs": [
    {
     "name": "stdout",
     "output_type": "stream",
     "text": [
      "<class 'pandas.core.frame.DataFrame'>\n",
      "RangeIndex: 891 entries, 0 to 890\n",
      "Data columns (total 12 columns):\n",
      " #   Column       Non-Null Count  Dtype  \n",
      "---  ------       --------------  -----  \n",
      " 0   PassengerId  891 non-null    int64  \n",
      " 1   Survived     891 non-null    int64  \n",
      " 2   Pclass       891 non-null    int64  \n",
      " 3   Name         891 non-null    object \n",
      " 4   Sex          891 non-null    object \n",
      " 5   Age          891 non-null    float64\n",
      " 6   SibSp        891 non-null    int64  \n",
      " 7   Parch        891 non-null    int64  \n",
      " 8   Ticket       891 non-null    object \n",
      " 9   Fare         891 non-null    float64\n",
      " 10  Cabin        891 non-null    object \n",
      " 11  Embarked     891 non-null    object \n",
      "dtypes: float64(2), int64(5), object(5)\n",
      "memory usage: 83.7+ KB\n"
     ]
    }
   ],
   "source": [
    "titanic.info()"
   ]
  },
  {
   "cell_type": "markdown",
   "id": "13c8f7c4-5465-40d7-a3c6-378801a3efe1",
   "metadata": {},
   "source": [
    "#### 2.2 TARGET VARIABLE"
   ]
  },
  {
   "cell_type": "markdown",
   "id": "220cb475-c9da-4ed0-a097-c128bc3c2945",
   "metadata": {
    "jp-MarkdownHeadingCollapsed": true
   },
   "source": [
    "In this EDA Step, the target variable \"Survived\" is visualized to know the nature of the target variable in the dataset"
   ]
  },
  {
   "cell_type": "code",
   "execution_count": 8,
   "id": "23c96c7c-bfab-472a-b0c1-5352f68d5c25",
   "metadata": {},
   "outputs": [
    {
     "data": {
      "text/plain": [
       "<Axes: xlabel='Survived', ylabel='count'>"
      ]
     },
     "execution_count": 8,
     "metadata": {},
     "output_type": "execute_result"
    },
    {
     "data": {
      "image/png": "[encoded data removed]",
      "text/plain": [
       "<Figure size 640x480 with 1 Axes>"
      ]
     },
     "metadata": {},
     "output_type": "display_data"
    }
   ],
   "source": [
    "plt.xticks(rotation = 90)\n",
    "\n",
    "plt.suptitle(\"DISTRIBUTION OF VARIABLES IN THE DATASET\", size = 16, y = 0.96);\n",
    "\n",
    "sns.countplot(x = \"Survived\", data = titanic, hue = \"Survived\")"
   ]
  },
  {
   "cell_type": "markdown",
   "id": "89f50b32-e61b-41cd-afb8-cc834f054bd2",
   "metadata": {},
   "source": [
    "As visualized above, the number of persons that did not survive (\"0\") is within the range of 300 - 350 while the number of persons that survived(\"1\") is within the range of 500 and above."
   ]
  },
  {
   "cell_type": "code",
   "execution_count": 9,
   "id": "f2d8c0a1-9cdf-4126-83aa-5a13da133f2a",
   "metadata": {},
   "outputs": [
    {
     "name": "stdout",
     "output_type": "stream",
     "text": [
      "<class 'pandas.core.frame.DataFrame'>\n",
      "RangeIndex: 891 entries, 0 to 890\n",
      "Data columns (total 12 columns):\n",
      " #   Column       Non-Null Count  Dtype  \n",
      "---  ------       --------------  -----  \n",
      " 0   PassengerId  891 non-null    int64  \n",
      " 1   Survived     891 non-null    int64  \n",
      " 2   Pclass       891 non-null    int64  \n",
      " 3   Name         891 non-null    object \n",
      " 4   Sex          891 non-null    object \n",
      " 5   Age          891 non-null    float64\n",
      " 6   SibSp        891 non-null    int64  \n",
      " 7   Parch        891 non-null    int64  \n",
      " 8   Ticket       891 non-null    object \n",
      " 9   Fare         891 non-null    float64\n",
      " 10  Cabin        891 non-null    object \n",
      " 11  Embarked     891 non-null    object \n",
      "dtypes: float64(2), int64(5), object(5)\n",
      "memory usage: 83.7+ KB\n"
     ]
    }
   ],
   "source": [
    "titanic.info()"
   ]
  },
  {
   "cell_type": "code",
   "execution_count": 10,
   "id": "3a8eb34a-bba6-4cba-a42c-38b8f3221fb6",
   "metadata": {},
   "outputs": [
    {
     "data": {
      "text/plain": [
       "<bound method NDFrame.describe of 0        1\n",
       "1        2\n",
       "2        3\n",
       "3        4\n",
       "4        5\n",
       "      ... \n",
       "886    887\n",
       "887    888\n",
       "888    889\n",
       "889    890\n",
       "890    891\n",
       "Name: PassengerId, Length: 891, dtype: int64>"
      ]
     },
     "execution_count": 10,
     "metadata": {},
     "output_type": "execute_result"
    }
   ],
   "source": [
    "titanic[\"PassengerId\"].describe"
   ]
  },
  {
   "cell_type": "code",
   "execution_count": 11,
   "id": "90bd29c1-a6c7-4627-a048-75d8e97298a7",
   "metadata": {},
   "outputs": [
    {
     "data": {
      "text/plain": [
       "<bound method NDFrame.describe of 0      0\n",
       "1      1\n",
       "2      1\n",
       "3      1\n",
       "4      0\n",
       "      ..\n",
       "886    0\n",
       "887    1\n",
       "888    0\n",
       "889    1\n",
       "890    0\n",
       "Name: Survived, Length: 891, dtype: int64>"
      ]
     },
     "execution_count": 11,
     "metadata": {},
     "output_type": "execute_result"
    }
   ],
   "source": [
    "titanic[\"Survived\"].describe"
   ]
  },
  {
   "cell_type": "code",
   "execution_count": 12,
   "id": "81c14e11-f474-4b04-b219-9561a8b5db3a",
   "metadata": {},
   "outputs": [
    {
     "data": {
      "text/plain": [
       "<bound method NDFrame.describe of 0      3\n",
       "1      1\n",
       "2      3\n",
       "3      1\n",
       "4      3\n",
       "      ..\n",
       "886    2\n",
       "887    1\n",
       "888    3\n",
       "889    1\n",
       "890    3\n",
       "Name: Pclass, Length: 891, dtype: int64>"
      ]
     },
     "execution_count": 12,
     "metadata": {},
     "output_type": "execute_result"
    }
   ],
   "source": [
    "titanic[\"Pclass\"].describe"
   ]
  },
  {
   "cell_type": "code",
   "execution_count": 13,
   "id": "b1b8f6f8-d1b6-4049-bc0f-0de68474f557",
   "metadata": {},
   "outputs": [
    {
     "data": {
      "text/plain": [
       "<bound method NDFrame.describe of 0                                Braund, Mr. Owen Harris\n",
       "1      Cumings, Mrs. John Bradley (Florence Briggs Th...\n",
       "2                                 Heikkinen, Miss. Laina\n",
       "3           Futrelle, Mrs. Jacques Heath (Lily May Peel)\n",
       "4                               Allen, Mr. William Henry\n",
       "                             ...                        \n",
       "886                                Montvila, Rev. Juozas\n",
       "887                         Graham, Miss. Margaret Edith\n",
       "888             Johnston, Miss. Catherine Helen \"Carrie\"\n",
       "889                                Behr, Mr. Karl Howell\n",
       "890                                  Dooley, Mr. Patrick\n",
       "Name: Name, Length: 891, dtype: object>"
      ]
     },
     "execution_count": 13,
     "metadata": {},
     "output_type": "execute_result"
    }
   ],
   "source": [
    "titanic[\"Name\"].describe"
   ]
  },
  {
   "cell_type": "code",
   "execution_count": 14,
   "id": "4d60ebec-178c-4c3c-b9dc-7ced1a7f4fea",
   "metadata": {},
   "outputs": [
    {
     "data": {
      "text/plain": [
       "<bound method NDFrame.describe of 0        male\n",
       "1      female\n",
       "2      female\n",
       "3      female\n",
       "4        male\n",
       "        ...  \n",
       "886      male\n",
       "887    female\n",
       "888    female\n",
       "889      male\n",
       "890      male\n",
       "Name: Sex, Length: 891, dtype: object>"
      ]
     },
     "execution_count": 14,
     "metadata": {},
     "output_type": "execute_result"
    }
   ],
   "source": [
    "titanic[\"Sex\"].describe"
   ]
  },
  {
   "cell_type": "code",
   "execution_count": 15,
   "id": "8dc567bd-bc5d-40dc-9221-ea1c04a3d0e9",
   "metadata": {},
   "outputs": [
    {
     "data": {
      "text/plain": [
       "<bound method NDFrame.describe of 0      22.0\n",
       "1      38.0\n",
       "2      26.0\n",
       "3      35.0\n",
       "4      35.0\n",
       "       ... \n",
       "886    27.0\n",
       "887    19.0\n",
       "888    24.0\n",
       "889    26.0\n",
       "890    32.0\n",
       "Name: Age, Length: 891, dtype: float64>"
      ]
     },
     "execution_count": 15,
     "metadata": {},
     "output_type": "execute_result"
    }
   ],
   "source": [
    "titanic[\"Age\"].describe"
   ]
  },
  {
   "cell_type": "code",
   "execution_count": 16,
   "id": "0a01be73-8290-4fa5-bf43-caf903b23ad1",
   "metadata": {},
   "outputs": [
    {
     "data": {
      "text/plain": [
       "<bound method NDFrame.describe of 0      1\n",
       "1      1\n",
       "2      0\n",
       "3      1\n",
       "4      0\n",
       "      ..\n",
       "886    0\n",
       "887    0\n",
       "888    1\n",
       "889    0\n",
       "890    0\n",
       "Name: SibSp, Length: 891, dtype: int64>"
      ]
     },
     "execution_count": 16,
     "metadata": {},
     "output_type": "execute_result"
    }
   ],
   "source": [
    "titanic[\"SibSp\"].describe"
   ]
  },
  {
   "cell_type": "code",
   "execution_count": 17,
   "id": "ef366985-b1fa-46e8-b173-0dcf85caadb6",
   "metadata": {},
   "outputs": [
    {
     "data": {
      "text/plain": [
       "<bound method NDFrame.describe of 0      0\n",
       "1      0\n",
       "2      0\n",
       "3      0\n",
       "4      0\n",
       "      ..\n",
       "886    0\n",
       "887    0\n",
       "888    2\n",
       "889    0\n",
       "890    0\n",
       "Name: Parch, Length: 891, dtype: int64>"
      ]
     },
     "execution_count": 17,
     "metadata": {},
     "output_type": "execute_result"
    }
   ],
   "source": [
    "titanic[\"Parch\"].describe"
   ]
  },
  {
   "cell_type": "code",
   "execution_count": 18,
   "id": "e89a5662-45b1-45c8-b0e4-268bdb67cd39",
   "metadata": {},
   "outputs": [
    {
     "data": {
      "text/plain": [
       "<bound method NDFrame.describe of 0             A/5 21171\n",
       "1              PC 17599\n",
       "2      STON/O2. 3101282\n",
       "3                113803\n",
       "4                373450\n",
       "             ...       \n",
       "886              211536\n",
       "887              112053\n",
       "888          W./C. 6607\n",
       "889              111369\n",
       "890              370376\n",
       "Name: Ticket, Length: 891, dtype: object>"
      ]
     },
     "execution_count": 18,
     "metadata": {},
     "output_type": "execute_result"
    }
   ],
   "source": [
    "titanic[\"Ticket\"].describe"
   ]
  },
  {
   "cell_type": "code",
   "execution_count": 19,
   "id": "33f6129b-f453-4cb7-a387-9d0fb1cf3ac9",
   "metadata": {},
   "outputs": [
    {
     "data": {
      "text/plain": [
       "<bound method NDFrame.describe of 0       7.2500\n",
       "1      71.2833\n",
       "2       7.9250\n",
       "3      53.1000\n",
       "4       8.0500\n",
       "        ...   \n",
       "886    13.0000\n",
       "887    30.0000\n",
       "888    23.4500\n",
       "889    30.0000\n",
       "890     7.7500\n",
       "Name: Fare, Length: 891, dtype: float64>"
      ]
     },
     "execution_count": 19,
     "metadata": {},
     "output_type": "execute_result"
    }
   ],
   "source": [
    "titanic[\"Fare\"].describe"
   ]
  },
  {
   "cell_type": "code",
   "execution_count": 20,
   "id": "45dbd1e2-6adf-417c-bb77-4b4f2ccbb200",
   "metadata": {},
   "outputs": [
    {
     "data": {
      "text/plain": [
       "<bound method NDFrame.describe of 0      B96 B98\n",
       "1          C85\n",
       "2      B96 B98\n",
       "3         C123\n",
       "4      B96 B98\n",
       "        ...   \n",
       "886    B96 B98\n",
       "887        B42\n",
       "888    B96 B98\n",
       "889       C148\n",
       "890    B96 B98\n",
       "Name: Cabin, Length: 891, dtype: object>"
      ]
     },
     "execution_count": 20,
     "metadata": {},
     "output_type": "execute_result"
    }
   ],
   "source": [
    "titanic[\"Cabin\"].describe"
   ]
  },
  {
   "cell_type": "code",
   "execution_count": 22,
   "id": "a049e650-a402-4e4b-b5a9-c44613b42dd8",
   "metadata": {},
   "outputs": [
    {
     "data": {
      "text/plain": [
       "<bound method NDFrame.describe of 0      S\n",
       "1      C\n",
       "2      S\n",
       "3      S\n",
       "4      S\n",
       "      ..\n",
       "886    S\n",
       "887    S\n",
       "888    S\n",
       "889    C\n",
       "890    Q\n",
       "Name: Embarked, Length: 891, dtype: object>"
      ]
     },
     "execution_count": 22,
     "metadata": {},
     "output_type": "execute_result"
    }
   ],
   "source": [
    "titanic[\"Embarked\"].describe"
   ]
  },
  {
   "cell_type": "markdown",
   "id": "617a701c-04d1-4b08-ac38-01744844067e",
   "metadata": {},
   "source": [
    "#### 2.3 PREDICTOR VARIABLES"
   ]
  },
  {
   "cell_type": "code",
   "execution_count": 17,
   "id": "85105ecc-5e6a-4d1d-8d7a-727b29a28e8e",
   "metadata": {},
   "outputs": [
    {
     "data": {
      "text/plain": [
       "[Text(0.5, 1.0, 'Embarked'), Text(0.5, 0, 'Count')]"
      ]
     },
     "execution_count": 17,
     "metadata": {},
     "output_type": "execute_result"
    },
    {
     "data": {
      "image/png": "[encoded data removed]",
      "text/plain": [
       "<Figure size 1200x1000 with 9 Axes>"
      ]
     },
     "metadata": {},
     "output_type": "display_data"
    }
   ],
   "source": [
    "fig, ax = plt.subplots(3,3, figsize = (12, 10))\n",
    "\n",
    "fig.subplots_adjust(hspace = 0.5, wspace=0.8)\n",
    "\n",
    "plt.suptitle(\"DISTRIBUTION OF PREDICTORS IN THE DATASET\", size = 16, y = 0.94);\n",
    "\n",
    "sns.distplot(x = titanic [\"Pclass\"], ax = ax[0][0]).set(title = \"Pclass\", xlabel = \"Count\")\n",
    "sns.countplot(x = titanic [\"Sex\"], ax = ax[0][1]).set(title = \"Sex\", xlabel = \"Count\")\n",
    "sns.distplot(x = titanic [\"Age\"], ax = ax[0][2]).set(title = \"Age\", xlabel = \"Count\")\n",
    "sns.distplot(x = titanic [\"SibSp\"], ax = ax[1][0]).set(title = \"SibSp\", xlabel = \"Count\")\n",
    "sns.distplot(x = titanic [\"Parch\"], ax = ax[1][1]).set(title = \"Parch\", xlabel = \"Count\")\n",
    "sns.countplot(x = titanic [\"Ticket\"], ax = ax[1][2]).set(title = \"Ticket\", xlabel = \"Count\")\n",
    "sns.distplot(x = titanic [\"Fare\"], ax = ax[2][0]).set(title = \"Fare\", xlabel = \"Count\")\n",
    "sns.countplot(x = titanic [\"Embarked\"], ax = ax[2][1]).set(title = \"Embarked\", xlabel = \"Count\")\n",
    "\n",
    "\n",
    "\n",
    "\n"
   ]
  },
  {
   "cell_type": "markdown",
   "id": "37ddabb3-8f06-40dd-9731-7bb9c579d03f",
   "metadata": {},
   "source": [
    "#### 2.4 RELATIONSHIP BETWEEN PREDICTORS AND TARGET VARIABLES"
   ]
  },
  {
   "cell_type": "code",
   "execution_count": 11,
   "id": "2b47f9c1-e519-47ad-a6ce-16a0a575a30c",
   "metadata": {},
   "outputs": [
    {
     "data": {
      "text/plain": [
       "<Axes: xlabel='Survived', ylabel='PassengerId'>"
      ]
     },
     "execution_count": 11,
     "metadata": {},
     "output_type": "execute_result"
    },
    {
     "data": {
      "image/png": "[encoded data removed]",
      "text/plain": [
       "<Figure size 640x480 with 1 Axes>"
      ]
     },
     "metadata": {},
     "output_type": "display_data"
    }
   ],
   "source": [
    "plt.xticks(rotation = 90)\n",
    "\n",
    "plt.suptitle(\"PassengerId with Survived\", size = 16, y = 0.99);\n",
    "\n",
    "sns.scatterplot(x = titanic [\"Survived\"], y = titanic [\"PassengerId\"], hue = \"Survived\", data = titanic)"
   ]
  },
  {
   "cell_type": "code",
   "execution_count": 12,
   "id": "7238de8d-7f7e-4052-bac7-920e9b1826dc",
   "metadata": {},
   "outputs": [
    {
     "data": {
      "text/plain": [
       "<Axes: xlabel='Survived', ylabel='Pclass'>"
      ]
     },
     "execution_count": 12,
     "metadata": {},
     "output_type": "execute_result"
    },
    {
     "data": {
      "image/png": "[encoded data removed]",
      "text/plain": [
       "<Figure size 640x480 with 1 Axes>"
      ]
     },
     "metadata": {},
     "output_type": "display_data"
    }
   ],
   "source": [
    "plt.xticks(rotation = 90)\n",
    "\n",
    "plt.suptitle(\"Pclass with Survived\", size = 16, y = 0.99);\n",
    "\n",
    "sns.scatterplot(x = titanic [\"Survived\"], y = titanic [\"Pclass\"], hue = \"Survived\", data = titanic)"
   ]
  },
  {
   "cell_type": "code",
   "execution_count": 1,
   "id": "8006ac56-ff6d-452d-aa5a-24a97d48197e",
   "metadata": {},
   "outputs": [
    {
     "ename": "NameError",
     "evalue": "name 'plt' is not defined",
     "output_type": "error",
     "traceback": [
      "\u001b[1;31m---------------------------------------------------------------------------\u001b[0m",
      "\u001b[1;31mNameError\u001b[0m                                 Traceback (most recent call last)",
      "Cell \u001b[1;32mIn[1], line 1\u001b[0m\n\u001b[1;32m----> 1\u001b[0m \u001b[43mplt\u001b[49m\u001b[38;5;241m.\u001b[39mxticks(rotation \u001b[38;5;241m=\u001b[39m \u001b[38;5;241m90\u001b[39m)\n\u001b[0;32m      3\u001b[0m plt\u001b[38;5;241m.\u001b[39msuptitle(\u001b[38;5;124m\"\u001b[39m\u001b[38;5;124mName with Survived\u001b[39m\u001b[38;5;124m\"\u001b[39m, size \u001b[38;5;241m=\u001b[39m \u001b[38;5;241m16\u001b[39m, y \u001b[38;5;241m=\u001b[39m \u001b[38;5;241m0.99\u001b[39m);\n\u001b[0;32m      5\u001b[0m sns\u001b[38;5;241m.\u001b[39mscatterplot(x \u001b[38;5;241m=\u001b[39m titanic [\u001b[38;5;124m\"\u001b[39m\u001b[38;5;124mSurvived\u001b[39m\u001b[38;5;124m\"\u001b[39m], y \u001b[38;5;241m=\u001b[39m titanic [\u001b[38;5;124m\"\u001b[39m\u001b[38;5;124mName\u001b[39m\u001b[38;5;124m\"\u001b[39m], hue \u001b[38;5;241m=\u001b[39m \u001b[38;5;124m\"\u001b[39m\u001b[38;5;124mSurvived\u001b[39m\u001b[38;5;124m\"\u001b[39m, data \u001b[38;5;241m=\u001b[39m titanic)\n",
      "\u001b[1;31mNameError\u001b[0m: name 'plt' is not defined"
     ]
    }
   ],
   "source": [
    "plt.xticks(rotation = 90)\n",
    "\n",
    "plt.suptitle(\"Name with Survived\", size = 16, y = 0.99);\n",
    "\n",
    "sns.scatterplot(x = titanic [\"Survived\"], y = titanic [\"Name\"], hue = \"Survived\", data = titanic)"
   ]
  },
  {
   "cell_type": "code",
   "execution_count": null,
   "id": "5dce49bb-48f3-447d-af0f-6f609fc1c453",
   "metadata": {},
   "outputs": [],
   "source": [
    "plt.xticks(rotation = 90)\n",
    "\n",
    "plt.suptitle(\"Sex with Survived\", size = 16, y = 0.99);\n",
    "\n",
    "sns.scatterplot(x = titanic [\"Survived\"], y = titanic [\"Sex\"], hue = \"Survived\", data = titanic)"
   ]
  },
  {
   "cell_type": "code",
   "execution_count": null,
   "id": "d8f0e376-1a11-4c55-a950-1dc3ccfdeb76",
   "metadata": {},
   "outputs": [],
   "source": [
    "plt.xticks(rotation = 90)\n",
    "\n",
    "plt.suptitle(\"Age with Survived\", size = 16, y = 0.99);\n",
    "\n",
    "sns.scatterplot(x = titanic [\"Survived\"], y = titanic [\"Age\"], hue = \"Survived\", data = titanic)"
   ]
  },
  {
   "cell_type": "code",
   "execution_count": null,
   "id": "3c0b4390-1495-4e00-851a-b943e6654a70",
   "metadata": {},
   "outputs": [],
   "source": [
    "plt.xticks(rotation = 90)\n",
    "\n",
    "plt.suptitle(\"SibSp with Survived\", size = 16, y = 0.99);\n",
    "\n",
    "sns.scatterplot(x = titanic [\"Survived\"], y = titanic [\"SibSp\"], hue = \"Survived\", data = titanic)"
   ]
  },
  {
   "cell_type": "code",
   "execution_count": null,
   "id": "c03226cc-b390-45cb-a9bd-5437e46a3193",
   "metadata": {},
   "outputs": [],
   "source": [
    "plt.xticks(rotation = 90)\n",
    "\n",
    "plt.suptitle(\"Parch with Survived\", size = 16, y = 0.99);\n",
    "\n",
    "sns.scatterplot(x = titanic [\"Survived\"], y = titanic [\"Parch\"], hue = \"Survived\", data = titanic)"
   ]
  },
  {
   "cell_type": "code",
   "execution_count": null,
   "id": "1726ddb4-9975-46f5-aaf8-8f91b2713139",
   "metadata": {},
   "outputs": [],
   "source": [
    "plt.xticks(rotation = 90)\n",
    "\n",
    "plt.suptitle(\"Ticket with Survived\", size = 16, y = 0.99);\n",
    "\n",
    "sns.scatterplot(x = titanic [\"Survived\"], y = titanic [\"Ticket\"], hue = \"Survived\", data = titanic)"
   ]
  },
  {
   "cell_type": "code",
   "execution_count": null,
   "id": "a3da7956-fca3-4e49-bf64-8bf8a87ca8db",
   "metadata": {},
   "outputs": [],
   "source": [
    "plt.xticks(rotation = 90)\n",
    "\n",
    "plt.suptitle(\"Fare with Survived\", size = 16, y = 0.99);\n",
    "\n",
    "sns.scatterplot(x = titanic [\"Survived\"], y = titanic [\"Fare\"], hue = \"Survived\", data = titanic)"
   ]
  },
  {
   "cell_type": "code",
   "execution_count": null,
   "id": "9d89e86f-d80c-4e44-8900-567fa6e64ae6",
   "metadata": {},
   "outputs": [],
   "source": [
    "plt.xticks(rotation = 90)\n",
    "\n",
    "plt.suptitle(\"Cabin with Survived\", size = 16, y = 0.99);\n",
    "\n",
    "sns.scatterplot(x = titanic [\"Survived\"], y = titanic [\"Cabin\"], hue = \"Survived\", data = titanic)"
   ]
  },
  {
   "cell_type": "code",
   "execution_count": null,
   "id": "4b8f77a3-0f9f-43bf-95d1-c11cc2d72866",
   "metadata": {},
   "outputs": [],
   "source": [
    "plt.xticks(rotation = 90)\n",
    "\n",
    "plt.suptitle(\"Embarked with Survived\", size = 16, y = 0.99);\n",
    "\n",
    "sns.scatterplot(x = titanic [\"Survived\"], y = titanic [\"Embarked\"], hue = \"Survived\", data = titanic)"
   ]
  },
  {
   "cell_type": "markdown",
   "id": "b2e7fec1-3225-4661-b9bd-c08acc0ee776",
   "metadata": {},
   "source": [
    "## 3.0 DATA PREPROCESSING"
   ]
  },
  {
   "cell_type": "markdown",
   "id": "7cfbe99e-0100-442a-b805-15e83fc9c2d1",
   "metadata": {},
   "source": [
    "In this phase, the OneHotEncoder was employed as a crucial component. This encoder was employed to transform the categorical variables into a numerical format, so as to facilitate the inclusion of the variables in the selected machine learning model."
   ]
  },
  {
   "cell_type": "code",
   "execution_count": null,
   "id": "8bb4ac7d-341d-4ff4-ba2f-d40b8e520645",
   "metadata": {},
   "outputs": [],
   "source": [
    "onehot_encoder = OneHotEncoder(sparse=False)\n",
    "\n",
    "onehot_encoded = onehot_encoder.fit_transform(titanic[['Name', 'Sex', 'Ticket', 'Cabin', 'Embarked']])\n",
    "\n",
    "feature_names = onehot_encoder.get_feature_names_out(['Name', 'Sex', 'Ticket', 'Cabin', 'Embarked'])\n",
    "\n",
    "onehot_df = pd.DataFrame(onehot_encoded, columns=feature_names)\n",
    "\n",
    "\n",
    "\n"
   ]
  },
  {
   "cell_type": "code",
   "execution_count": null,
   "id": "613c18ef-4c74-477e-b521-fe574d3c137a",
   "metadata": {},
   "outputs": [],
   "source": [
    "titanic.info()"
   ]
  },
  {
   "cell_type": "markdown",
   "id": "30332d86-52b5-4f69-a649-f03a05418bbe",
   "metadata": {},
   "source": [
    "### 3.1 Splitting the dataset into train and test sets"
   ]
  },
  {
   "cell_type": "markdown",
   "id": "ff4f2f37-4236-4873-b291-3dfaf8434775",
   "metadata": {},
   "source": [
    "##### There is a need to split the dataset into two fractions, a part for training of the model and the other for evaluating the performance of the \n",
    "\n",
    "##### model. In this case, 80% of the dataset was kept for training and the remaining 20% for splitting."
   ]
  },
  {
   "cell_type": "code",
   "execution_count": null,
   "id": "2b6a731e",
   "metadata": {},
   "outputs": [],
   "source": [
    "titanic[\"Survived\"]\n"
   ]
  },
  {
   "cell_type": "code",
   "execution_count": null,
   "id": "2c4b6c3c",
   "metadata": {},
   "outputs": [],
   "source": [
    "y = titanic[\"Survived\"]\n",
    "X = titanic.drop(\"Survived\", axis = 1)"
   ]
  },
  {
   "cell_type": "code",
   "execution_count": null,
   "id": "eeed269f",
   "metadata": {},
   "outputs": [],
   "source": [
    "trainX, testX, trainy, testy = train_test_split(X, y, test_size=0.2)"
   ]
  },
  {
   "cell_type": "markdown",
   "id": "1210acc9-21cc-4a51-8a53-07a556cfd31f",
   "metadata": {},
   "source": [
    "## 4.0 MODELLING AND EVALUATION\n"
   ]
  },
  {
   "cell_type": "markdown",
   "id": "b657302e-4918-4b44-b63c-276e4cee8060",
   "metadata": {},
   "source": [
    "### 4.1 Decision Tree Classifier"
   ]
  },
  {
   "cell_type": "code",
   "execution_count": null,
   "id": "1b781fe6",
   "metadata": {},
   "outputs": [],
   "source": [
    "model1 = DecisionTreeClassifier()"
   ]
  },
  {
   "cell_type": "code",
   "execution_count": null,
   "id": "7f10fb29",
   "metadata": {
    "scrolled": true
   },
   "outputs": [],
   "source": [
    "model.fit(trainX, trainy)\n",
    "pred1 = model1.predict(testX)\n",
    "pred1"
   ]
  },
  {
   "cell_type": "code",
   "execution_count": null,
   "id": "ded5bff4",
   "metadata": {},
   "outputs": [],
   "source": [
    "pred = model.predict(testX)\n",
    "pred"
   ]
  },
  {
   "cell_type": "code",
   "execution_count": null,
   "id": "4a90ec2b",
   "metadata": {},
   "outputs": [],
   "source": [
    "logistic_model = LogisticRegression()"
   ]
  },
  {
   "cell_type": "code",
   "execution_count": null,
   "id": "ec16e65b",
   "metadata": {},
   "outputs": [],
   "source": [
    "logistic_model.fit(trainX, trainy)"
   ]
  },
  {
   "cell_type": "code",
   "execution_count": null,
   "id": "b61f13de",
   "metadata": {},
   "outputs": [],
   "source": [
    "pred_logistic = logistic_model.predict(testX)\n",
    "pred_logistic"
   ]
  },
  {
   "cell_type": "code",
   "execution_count": null,
   "id": "ccf76296",
   "metadata": {},
   "outputs": [],
   "source": [
    "print(classification_report(pred_logistic,testy))"
   ]
  },
  {
   "cell_type": "code",
   "execution_count": null,
   "id": "9f5b0d26",
   "metadata": {},
   "outputs": [],
   "source": [
    "model_regressor = DecisionTreeRegressor()"
   ]
  },
  {
   "cell_type": "code",
   "execution_count": null,
   "id": "32c1fe87",
   "metadata": {},
   "outputs": [],
   "source": [
    "model_regressor.fit(trainX, trainy)"
   ]
  },
  {
   "cell_type": "code",
   "execution_count": null,
   "id": "9172c7e7",
   "metadata": {},
   "outputs": [],
   "source": [
    "pred_regressor_model = model_regressor.predict(testX)"
   ]
  },
  {
   "cell_type": "code",
   "execution_count": null,
   "id": "9ef74edc",
   "metadata": {},
   "outputs": [],
   "source": [
    "pred_regressor_model"
   ]
  },
  {
   "cell_type": "code",
   "execution_count": null,
   "id": "a080d354",
   "metadata": {},
   "outputs": [],
   "source": [
    "print(classification_report(pred_regressor_model,testy))"
   ]
  },
  {
   "cell_type": "code",
   "execution_count": null,
   "id": "9a3e92c3",
   "metadata": {},
   "outputs": [],
   "source": [
    "New = KNeighborsClassifier()"
   ]
  },
  {
   "cell_type": "code",
   "execution_count": null,
   "id": "496ce50f",
   "metadata": {},
   "outputs": [],
   "source": [
    "New.fit(trainX, trainy)"
   ]
  },
  {
   "cell_type": "code",
   "execution_count": null,
   "id": "f770ca26",
   "metadata": {},
   "outputs": [],
   "source": [
    "Predict_Me = New.predict(testX)"
   ]
  },
  {
   "cell_type": "code",
   "execution_count": null,
   "id": "06fbad33",
   "metadata": {},
   "outputs": [],
   "source": [
    "print(classification_report(Predict_Me,testy))"
   ]
  },
  {
   "cell_type": "code",
   "execution_count": null,
   "id": "2b530694",
   "metadata": {},
   "outputs": [],
   "source": []
  }
 ],
 "metadata": {
  "kernelspec": {
   "display_name": "Python 3 (ipykernel)",
   "language": "python",
   "name": "python3"
  },
  "language_info": {
   "codemirror_mode": {
    "name": "ipython",
    "version": 3
   },
   "file_extension": ".py",
   "mimetype": "text/x-python",
   "name": "python",
   "nbconvert_exporter": "python",
   "pygments_lexer": "ipython3",
   "version": "3.10.0"
  }
 },
 "nbformat": 4,
 "nbformat_minor": 5
}
